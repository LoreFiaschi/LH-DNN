{
 "cells": [
  {
   "cell_type": "code",
   "execution_count": 1,
   "id": "1f3a6068-7854-4a87-97b6-9f5fceccca0d",
   "metadata": {},
   "outputs": [],
   "source": [
    "import cnn3\n",
    "\n",
    "from cnn3 import torch, optim\n",
    "from cnn3 import CIFAR100\n",
    "from cnn3 import CNN3\n",
    "from cnn3 import nn\n",
    "from cnn3 import tqdm\n",
    "from cnn3 import np\n",
    "\n",
    "from telegramBot import Terminator"
   ]
  },
  {
   "cell_type": "code",
   "execution_count": 2,
   "id": "a5c940b8-8df2-4e67-837c-09d98c31378f",
   "metadata": {},
   "outputs": [],
   "source": [
    "cnn3.torch.autograd.set_detect_anomaly(False);\n",
    "cnn3.torch.autograd.profiler.emit_nvtx(False);\n",
    "cnn3.torch.autograd.profiler.profile(False);"
   ]
  },
  {
   "cell_type": "code",
   "execution_count": 3,
   "id": "f593861c-9aab-4d69-b6e3-35d1c9f9049e",
   "metadata": {},
   "outputs": [],
   "source": [
    "class HCNN3(CNN3):\n",
    "\n",
    "    def __init__(self, learning_rate, momentum, nesterov, dataset,\n",
    "                 epochs, every_print = 512, switch_point = None, custom_training = False, training_size = 50000):\n",
    "\n",
    "        super().__init__(learning_rate, momentum, nesterov, dataset,\n",
    "                 epochs, every_print, switch_point, custom_training, training_size)\n",
    "\n",
    "        self.layer1  = nn.Conv2d(3, 64, (3,3), padding = 'same', bias = False)\n",
    "        self.layer2  = nn.BatchNorm2d(64)\n",
    "        self.layer3  = nn.Conv2d(64, 64, (3,3), padding = 'same', bias = False)\n",
    "        self.layer4  = nn.BatchNorm2d(64)\n",
    "        self.layer5  = nn.MaxPool2d((2,2), stride = (2,2))\n",
    "\n",
    "        self.layer6  = nn.Conv2d(64, 128, (3,3), padding = 'same', bias = False)\n",
    "        self.layer7  = nn.BatchNorm2d(128)\n",
    "        self.layer8  = nn.Conv2d(128, 128, (3,3), padding = 'same', bias = False)\n",
    "        self.layer9  = nn.BatchNorm2d(128)\n",
    "        self.layer10 = nn.MaxPool2d((2,2), stride = (2,2))\n",
    "\n",
    "        self.layerb11 = nn.Linear(8*8*128, 128, bias = False)\n",
    "        self.layerb12 = nn.BatchNorm1d(128)\n",
    "        self.layerb13 = nn.Dropout(0.5)\n",
    "        self.layerb14 = nn.Linear(128, 256, bias = False)\n",
    "        self.layerb15 = nn.BatchNorm1d(256)\n",
    "        self.layerb16 = nn.Dropout(0.5)\n",
    "        self.layerb_mid = nn.Linear(256, 256)\n",
    "        self.layerb17 = nn.Linear(256, self.dataset.num_c1)\n",
    "        \n",
    "        self.layerb27 = nn.Linear(256, self.dataset.num_c2)\n",
    "        self.layerb27_ = nn.Linear(self.dataset.num_c1, self.dataset.num_c2)\n",
    "        \n",
    "        self.layerb37 = nn.Linear(256, self.dataset.num_c3)\n",
    "        self.layerb37_ = nn.Linear(self.dataset.num_c2, self.dataset.num_c3)\n",
    "\n",
    "\n",
    "        self.optimizer = optim.SGD(self.parameters(), lr = self.learning_rate[0], \n",
    "                                   momentum = self.momentum, nesterov = self.nesterov)\n",
    "        self.criterion = nn.CrossEntropyLoss()\n",
    "\n",
    "\n",
    "    def forward(self, x):\n",
    "\n",
    "        # block 1\n",
    "        z = self.layer1(x)\n",
    "        z = self.activation(z)\n",
    "        z = self.layer2(z)\n",
    "        z = self.layer3(z)\n",
    "        z = self.activation(z)\n",
    "        z = self.layer4(z)\n",
    "        z = self.layer5(z)\n",
    "\n",
    "        # block 2\n",
    "        z = self.layer6(z)\n",
    "        z = self.activation(z)\n",
    "        z = self.layer7(z)\n",
    "        z = self.layer8(z)\n",
    "        z = self.activation(z)\n",
    "        z = self.layer9(z)\n",
    "        z = self.layer10(z)\n",
    "        \n",
    "        z = torch.flatten(z, start_dim = 1)\n",
    "\n",
    "        # branch 1\n",
    "        z = self.layerb11(z)\n",
    "        z = self.activation(z)\n",
    "        z = self.layerb12(z)\n",
    "        z = self.layerb13(z)\n",
    "        z = self.layerb14(z)\n",
    "        z = self.activation(z)\n",
    "        z = self.layerb15(z)\n",
    "        z = self.layerb16(z)\n",
    "        z = self.layerb_mid(z)\n",
    "        z = self.activation(z)\n",
    "\n",
    "        # projections\n",
    "        ort2, ort3 = self.project(z)\n",
    "\n",
    "        # branch 1\n",
    "        b1 = self.layerb17(z)\n",
    "        \n",
    "        # branch 2\n",
    "        b2 = self.layerb27(ort2) + self.layerb27_(b1.clone().detach())\n",
    "\n",
    "        # branch 3\n",
    "        b3 = self.layerb37(ort3) + self.layerb37_(b2.clone().detach())\n",
    "\n",
    "        return b1, b2, b3"
   ]
  },
  {
   "cell_type": "code",
   "execution_count": 4,
   "id": "5774ff83-58fa-4422-9853-5a184bbea0eb",
   "metadata": {},
   "outputs": [],
   "source": [
    "learning_rate = [1e-3, 2e-4]\n",
    "momentum = 0.9\n",
    "nesterov = True\n",
    "epochs = 20\n",
    "every_print = 64\n",
    "switch_point = 5\n",
    "batch_size = 128"
   ]
  },
  {
   "cell_type": "code",
   "execution_count": 5,
   "id": "3c8d5f9a-ea7f-41b7-9dc3-1084a288c586",
   "metadata": {},
   "outputs": [],
   "source": [
    "bot = Terminator()\n",
    "dataset = CIFAR100(batch_size)\n",
    "cnn = HCNN3(learning_rate, momentum, nesterov, dataset, epochs, every_print, switch_point)"
   ]
  },
  {
   "cell_type": "code",
   "execution_count": null,
   "id": "b54aa7b2-036b-4389-b126-27b435e103ac",
   "metadata": {},
   "outputs": [
    {
     "name": "stderr",
     "output_type": "stream",
     "text": [
      "Training: 100%|████████████████████████████████████████████████████████████████████████████████████████████████████████████████████████████████████████████████████████████████████████████████████████████████| 5/5 [30:10<00:00, 362.18s/it]\n",
      "Training:  60%|██████████████████████████████████████████████████████████████████████████████████████████████████████████████████▌                                                                            | 9/15 [54:33<36:33, 365.62s/it]"
     ]
    }
   ],
   "source": [
    "err = False\n",
    "filename = \"models/CIFAR100/H_oca\"\n",
    "\n",
    "try:\n",
    "    cnn.train_track(filename)\n",
    "    cnn.save_model(filename)\n",
    "    msg = cnn.test(mode = \"write\", filename = filename)\n",
    "    cnn.write_configuration(filename, additional_info = \"l1\")\n",
    "    \n",
    "except Exception as errore:\n",
    "    err = errore\n",
    "\n",
    "if err is False:\n",
    "    bot.sendMessage(\"Programma terminato correttamente\\n\\n\\nPerformance:\\n\\n\"+msg)\n",
    "else:\n",
    "    bot.sendMessage(\"Programma NON terminato correttamente\\nTipo di errore: \"+err.__class__.__name__+\"\\nMessaggio: \"+str(err))\n",
    "    raise err"
   ]
  },
  {
   "cell_type": "code",
   "execution_count": null,
   "id": "2a2b471b-9d4d-42e2-9871-2de7874cdd38",
   "metadata": {},
   "outputs": [],
   "source": []
  }
 ],
 "metadata": {
  "kernelspec": {
   "display_name": "Python (torch)",
   "language": "python",
   "name": "torch"
  },
  "language_info": {
   "codemirror_mode": {
    "name": "ipython",
    "version": 3
   },
   "file_extension": ".py",
   "mimetype": "text/x-python",
   "name": "python",
   "nbconvert_exporter": "python",
   "pygments_lexer": "ipython3",
   "version": "3.10.12"
  }
 },
 "nbformat": 4,
 "nbformat_minor": 5
}
