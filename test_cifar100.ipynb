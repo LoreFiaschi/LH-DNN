{
 "cells": [
  {
   "cell_type": "code",
   "execution_count": 1,
   "id": "1f3a6068-7854-4a87-97b6-9f5fceccca0d",
   "metadata": {},
   "outputs": [],
   "source": [
    "import cnn3\n",
    "\n",
    "from cnn3 import CIFAR100\n",
    "from cnn3 import CNN3\n",
    "from cnn3 import nn\n",
    "from cnn3 import torch, optim\n",
    "from cnn3 import tqdm\n",
    "from cnn3 import np\n",
    "\n",
    "#from telegramBot import Terminator"
   ]
  },
  {
   "cell_type": "code",
   "execution_count": 2,
   "id": "3c8d5f9a-ea7f-41b7-9dc3-1084a288c586",
   "metadata": {},
   "outputs": [
    {
     "name": "stdout",
     "output_type": "stream",
     "text": [
      "Files already downloaded and verified\n",
      "Files already downloaded and verified\n"
     ]
    }
   ],
   "source": [
    "batch_size = 128\n",
    "dataset = CIFAR100(batch_size)"
   ]
  },
  {
   "cell_type": "code",
   "execution_count": null,
   "id": "f894b39d-a436-486c-925b-6660caf7311f",
   "metadata": {},
   "outputs": [],
   "source": [
    "# testare le classi c3 ed implementare c3 to c2"
   ]
  }
 ],
 "metadata": {
  "kernelspec": {
   "display_name": "Python (torch)",
   "language": "python",
   "name": "torch"
  },
  "language_info": {
   "codemirror_mode": {
    "name": "ipython",
    "version": 3
   },
   "file_extension": ".py",
   "mimetype": "text/x-python",
   "name": "python",
   "nbconvert_exporter": "python",
   "pygments_lexer": "ipython3",
   "version": "3.10.12"
  }
 },
 "nbformat": 4,
 "nbformat_minor": 5
}
