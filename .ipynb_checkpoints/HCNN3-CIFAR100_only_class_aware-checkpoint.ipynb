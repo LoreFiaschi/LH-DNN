{
 "cells": [
  {
   "cell_type": "code",
   "execution_count": 1,
   "id": "1f3a6068-7854-4a87-97b6-9f5fceccca0d",
   "metadata": {},
   "outputs": [],
   "source": [
    "import cnn3\n",
    "\n",
    "from cnn3 import torch, optim\n",
    "from cnn3 import CIFAR100\n",
    "from cnn3 import CNN3\n",
    "from cnn3 import nn\n",
    "from cnn3 import tqdm\n",
    "from cnn3 import np\n",
    "\n",
    "from telegramBot import Terminator"
   ]
  },
  {
   "cell_type": "code",
   "execution_count": 2,
   "id": "a5c940b8-8df2-4e67-837c-09d98c31378f",
   "metadata": {},
   "outputs": [],
   "source": [
    "cnn3.torch.autograd.set_detect_anomaly(False);\n",
    "cnn3.torch.autograd.profiler.emit_nvtx(False);\n",
    "cnn3.torch.autograd.profiler.profile(False);"
   ]
  },
  {
   "cell_type": "code",
   "execution_count": 3,
   "id": "f593861c-9aab-4d69-b6e3-35d1c9f9049e",
   "metadata": {},
   "outputs": [],
   "source": [
    "class HCNN3(CNN3):\n",
    "\n",
    "    def __init__(self, learning_rate, momentum, nesterov, dataset,\n",
    "                 epochs, every_print = 512, switch_point = None, custom_training = False, training_size = 50000):\n",
    "\n",
    "        super().__init__(learning_rate, momentum, nesterov, dataset,\n",
    "                 epochs, every_print, switch_point, custom_training, training_size)\n",
    "\n",
    "        self.layer1  = nn.Conv2d(3, 64, (3,3), padding = 'same', bias = False)\n",
    "        self.layer2  = nn.BatchNorm2d(64)\n",
    "        self.layer3  = nn.Conv2d(64, 64, (3,3), padding = 'same', bias = False)\n",
    "        self.layer4  = nn.BatchNorm2d(64)\n",
    "        self.layer5  = nn.MaxPool2d((2,2), stride = (2,2))\n",
    "\n",
    "        self.layer6  = nn.Conv2d(64, 128, (3,3), padding = 'same', bias = False)\n",
    "        self.layer7  = nn.BatchNorm2d(128)\n",
    "        self.layer8  = nn.Conv2d(128, 128, (3,3), padding = 'same', bias = False)\n",
    "        self.layer9  = nn.BatchNorm2d(128)\n",
    "        self.layer10 = nn.MaxPool2d((2,2), stride = (2,2))\n",
    "\n",
    "        self.layerb11 = nn.Linear(8*8*128, 128, bias = False)\n",
    "        self.layerb12 = nn.BatchNorm1d(128)\n",
    "        self.layerb13 = nn.Dropout(0.5)\n",
    "        self.layerb14 = nn.Linear(128, 256, bias = False)\n",
    "        self.layerb15 = nn.BatchNorm1d(256)\n",
    "        self.layerb16 = nn.Dropout(0.5)\n",
    "        self.layerb_mid = nn.Linear(256, 256)\n",
    "        self.layerb17 = nn.Linear(256, self.dataset.num_c1)\n",
    "        \n",
    "        self.layerb27 = nn.Linear(256, self.dataset.num_c2)\n",
    "        self.layerb27_ = nn.Linear(self.dataset.num_c1, self.dataset.num_c2)\n",
    "        \n",
    "        self.layerb37 = nn.Linear(256, self.dataset.num_c3)\n",
    "        self.layerb37_ = nn.Linear(self.dataset.num_c2, self.dataset.num_c3)\n",
    "\n",
    "\n",
    "        self.optimizer = optim.SGD(self.parameters(), lr = self.learning_rate[0], \n",
    "                                   momentum = self.momentum, nesterov = self.nesterov)\n",
    "        self.criterion = nn.CrossEntropyLoss()\n",
    "\n",
    "\n",
    "    def forward(self, x):\n",
    "\n",
    "        # block 1\n",
    "        z = self.layer1(x)\n",
    "        z = self.activation(z)\n",
    "        z = self.layer2(z)\n",
    "        z = self.layer3(z)\n",
    "        z = self.activation(z)\n",
    "        z = self.layer4(z)\n",
    "        z = self.layer5(z)\n",
    "\n",
    "        # block 2\n",
    "        z = self.layer6(z)\n",
    "        z = self.activation(z)\n",
    "        z = self.layer7(z)\n",
    "        z = self.layer8(z)\n",
    "        z = self.activation(z)\n",
    "        z = self.layer9(z)\n",
    "        z = self.layer10(z)\n",
    "        \n",
    "        z = torch.flatten(z, start_dim = 1)\n",
    "\n",
    "        # branch 1\n",
    "        z = self.layerb11(z)\n",
    "        z = self.activation(z)\n",
    "        z = self.layerb12(z)\n",
    "        z = self.layerb13(z)\n",
    "        z = self.layerb14(z)\n",
    "        z = self.activation(z)\n",
    "        z = self.layerb15(z)\n",
    "        z = self.layerb16(z)\n",
    "        z = self.layerb_mid(z)\n",
    "        z = self.activation(z)\n",
    "\n",
    "        # projections\n",
    "        ort2, ort3 = self.project(z)\n",
    "\n",
    "        # branch 1\n",
    "        b1 = self.layerb17(z)\n",
    "        \n",
    "        # branch 2\n",
    "        b2 = self.layerb27(ort2) + self.layerb27_(b1.clone().detach())\n",
    "\n",
    "        # branch 3\n",
    "        b3 = self.layerb37(ort3) + self.layerb37_(b2.clone().detach())\n",
    "\n",
    "        return b1, b2, b3"
   ]
  },
  {
   "cell_type": "code",
   "execution_count": 4,
   "id": "5774ff83-58fa-4422-9853-5a184bbea0eb",
   "metadata": {},
   "outputs": [],
   "source": [
    "learning_rate = [1e-3, 2e-4]\n",
    "momentum = 0.9\n",
    "nesterov = True\n",
    "epochs = 20\n",
    "every_print = 64\n",
    "switch_point = 5\n",
    "batch_size = 128"
   ]
  },
  {
   "cell_type": "code",
   "execution_count": 5,
   "id": "3c8d5f9a-ea7f-41b7-9dc3-1084a288c586",
   "metadata": {},
   "outputs": [],
   "source": [
    "bot = Terminator()\n",
    "dataset = CIFAR100(batch_size)\n",
    "cnn = HCNN3(learning_rate, momentum, nesterov, dataset, epochs, every_print, switch_point)"
   ]
  },
  {
   "cell_type": "code",
   "execution_count": 6,
   "id": "b54aa7b2-036b-4389-b126-27b435e103ac",
   "metadata": {},
   "outputs": [
    {
     "name": "stderr",
     "output_type": "stream",
     "text": [
      "Training:   0%|                                                                                                                                                                                                         | 0/5 [00:03<?, ?it/s]\n"
     ]
    },
    {
     "ename": "KeyboardInterrupt",
     "evalue": "",
     "output_type": "error",
     "traceback": [
      "\u001b[0;31m---------------------------------------------------------------------------\u001b[0m",
      "\u001b[0;31mKeyboardInterrupt\u001b[0m                         Traceback (most recent call last)",
      "Cell \u001b[0;32mIn[6], line 5\u001b[0m\n\u001b[1;32m      2\u001b[0m filename \u001b[38;5;241m=\u001b[39m \u001b[38;5;124m\"\u001b[39m\u001b[38;5;124mmodels/CIFAR100/H_oca\u001b[39m\u001b[38;5;124m\"\u001b[39m\n\u001b[1;32m      4\u001b[0m \u001b[38;5;28;01mtry\u001b[39;00m:\n\u001b[0;32m----> 5\u001b[0m     \u001b[43mcnn\u001b[49m\u001b[38;5;241;43m.\u001b[39;49m\u001b[43mtrain_track\u001b[49m\u001b[43m(\u001b[49m\u001b[43mfilename\u001b[49m\u001b[43m)\u001b[49m\n\u001b[1;32m      6\u001b[0m     cnn\u001b[38;5;241m.\u001b[39msave_model(filename)\n\u001b[1;32m      7\u001b[0m     msg \u001b[38;5;241m=\u001b[39m cnn\u001b[38;5;241m.\u001b[39mtest(mode \u001b[38;5;241m=\u001b[39m \u001b[38;5;124m\"\u001b[39m\u001b[38;5;124mwrite\u001b[39m\u001b[38;5;124m\"\u001b[39m, filename \u001b[38;5;241m=\u001b[39m filename)\n",
      "File \u001b[0;32m~/GitHub/LexDL/cnn3.py:465\u001b[0m, in \u001b[0;36mCNN3.train_track\u001b[0;34m(self, filename)\u001b[0m\n\u001b[1;32m    463\u001b[0m \u001b[38;5;28;01melse\u001b[39;00m:\n\u001b[1;32m    464\u001b[0m \t\u001b[38;5;28;01mfor\u001b[39;00m epoch \u001b[38;5;129;01min\u001b[39;00m tqdm(np\u001b[38;5;241m.\u001b[39marange(\u001b[38;5;28mself\u001b[39m\u001b[38;5;241m.\u001b[39mswitch_point), desc\u001b[38;5;241m=\u001b[39m\u001b[38;5;124m\"\u001b[39m\u001b[38;5;124mTraining: \u001b[39m\u001b[38;5;124m\"\u001b[39m):\n\u001b[0;32m--> 465\u001b[0m \t\t\u001b[38;5;28;43mself\u001b[39;49m\u001b[38;5;241;43m.\u001b[39;49m\u001b[43mtraining_loop_body\u001b[49m\u001b[43m(\u001b[49m\u001b[43m)\u001b[49m\n\u001b[1;32m    467\u001b[0m \t\u001b[38;5;28mself\u001b[39m\u001b[38;5;241m.\u001b[39moptimizer\u001b[38;5;241m.\u001b[39mparam_groups[\u001b[38;5;241m0\u001b[39m][\u001b[38;5;124m'\u001b[39m\u001b[38;5;124mlr\u001b[39m\u001b[38;5;124m'\u001b[39m] \u001b[38;5;241m=\u001b[39m \u001b[38;5;28mself\u001b[39m\u001b[38;5;241m.\u001b[39mlearning_rate[\u001b[38;5;241m1\u001b[39m]\n\u001b[1;32m    469\u001b[0m \t\u001b[38;5;28;01mfor\u001b[39;00m epoch \u001b[38;5;129;01min\u001b[39;00m tqdm(np\u001b[38;5;241m.\u001b[39marange(\u001b[38;5;28mself\u001b[39m\u001b[38;5;241m.\u001b[39mswitch_point, \u001b[38;5;28mself\u001b[39m\u001b[38;5;241m.\u001b[39mepochs), desc\u001b[38;5;241m=\u001b[39m\u001b[38;5;124m\"\u001b[39m\u001b[38;5;124mTraining: \u001b[39m\u001b[38;5;124m\"\u001b[39m):\n",
      "File \u001b[0;32m~/GitHub/LexDL/cnn3.py:438\u001b[0m, in \u001b[0;36mCNN3.training_loop_body\u001b[0;34m(self)\u001b[0m\n\u001b[1;32m    435\u001b[0m running_loss \u001b[38;5;241m=\u001b[39m torch\u001b[38;5;241m.\u001b[39mzeros(\u001b[38;5;28mself\u001b[39m\u001b[38;5;241m.\u001b[39mdataset\u001b[38;5;241m.\u001b[39mclass_levels)\n\u001b[1;32m    437\u001b[0m \u001b[38;5;28;01mfor\u001b[39;00m \u001b[38;5;28miter\u001b[39m, (batch, labels) \u001b[38;5;129;01min\u001b[39;00m \u001b[38;5;28menumerate\u001b[39m(\u001b[38;5;28mself\u001b[39m\u001b[38;5;241m.\u001b[39mdataset\u001b[38;5;241m.\u001b[39mtrainloader):\n\u001b[0;32m--> 438\u001b[0m \tloss \u001b[38;5;241m=\u001b[39m \u001b[38;5;28;43mself\u001b[39;49m\u001b[38;5;241;43m.\u001b[39;49m\u001b[43mpredict_and_learn\u001b[49m\u001b[43m(\u001b[49m\u001b[43mbatch\u001b[49m\u001b[43m,\u001b[49m\u001b[43m \u001b[49m\u001b[43mlabels\u001b[49m\u001b[43m)\u001b[49m\n\u001b[1;32m    440\u001b[0m \trunning_loss \u001b[38;5;241m+\u001b[39m\u001b[38;5;241m=\u001b[39m (loss \u001b[38;5;241m-\u001b[39m running_loss) \u001b[38;5;241m/\u001b[39m (\u001b[38;5;28miter\u001b[39m\u001b[38;5;241m+\u001b[39m\u001b[38;5;241m1\u001b[39m)\n\u001b[1;32m    441\u001b[0m \t\u001b[38;5;28;01mif\u001b[39;00m (\u001b[38;5;28miter\u001b[39m \u001b[38;5;241m+\u001b[39m \u001b[38;5;241m1\u001b[39m) \u001b[38;5;241m&\u001b[39m \u001b[38;5;28mself\u001b[39m\u001b[38;5;241m.\u001b[39mevery_print \u001b[38;5;241m==\u001b[39m \u001b[38;5;241m0\u001b[39m:\n",
      "File \u001b[0;32m~/GitHub/LexDL/cnn3.py:403\u001b[0m, in \u001b[0;36mCNN3.predict_and_learn\u001b[0;34m(self, batch, labels)\u001b[0m\n\u001b[1;32m    400\u001b[0m loss_i1 \u001b[38;5;241m=\u001b[39m \u001b[38;5;28mself\u001b[39m\u001b[38;5;241m.\u001b[39mcriterion(predict[\u001b[38;5;241m1\u001b[39m], labels[:,\u001b[38;5;241m1\u001b[39m]) \u001b[38;5;241m+\u001b[39m \u001b[38;5;241m1e-4\u001b[39m \u001b[38;5;241m*\u001b[39m \u001b[38;5;28msum\u001b[39m(\u001b[38;5;28msum\u001b[39m(\u001b[38;5;28mabs\u001b[39m(\u001b[38;5;28mself\u001b[39m\u001b[38;5;241m.\u001b[39mlayerb27\u001b[38;5;241m.\u001b[39mweight)))\n\u001b[1;32m    401\u001b[0m loss_i2 \u001b[38;5;241m=\u001b[39m \u001b[38;5;28mself\u001b[39m\u001b[38;5;241m.\u001b[39mcriterion(predict[\u001b[38;5;241m2\u001b[39m], labels[:,\u001b[38;5;241m2\u001b[39m])\n\u001b[0;32m--> 403\u001b[0m \u001b[43mloss_f\u001b[49m\u001b[38;5;241;43m.\u001b[39;49m\u001b[43mbackward\u001b[49m\u001b[43m(\u001b[49m\u001b[43mretain_graph\u001b[49m\u001b[38;5;241;43m=\u001b[39;49m\u001b[38;5;28;43;01mTrue\u001b[39;49;00m\u001b[43m)\u001b[49m\n\u001b[1;32m    404\u001b[0m loss_i1\u001b[38;5;241m.\u001b[39mbackward(retain_graph\u001b[38;5;241m=\u001b[39m\u001b[38;5;28;01mTrue\u001b[39;00m)\n\u001b[1;32m    405\u001b[0m loss_i2\u001b[38;5;241m.\u001b[39mbackward()\n",
      "File \u001b[0;32m~/.virtualenvs/torch/lib/python3.10/site-packages/torch/_tensor.py:492\u001b[0m, in \u001b[0;36mTensor.backward\u001b[0;34m(self, gradient, retain_graph, create_graph, inputs)\u001b[0m\n\u001b[1;32m    482\u001b[0m \u001b[38;5;28;01mif\u001b[39;00m has_torch_function_unary(\u001b[38;5;28mself\u001b[39m):\n\u001b[1;32m    483\u001b[0m     \u001b[38;5;28;01mreturn\u001b[39;00m handle_torch_function(\n\u001b[1;32m    484\u001b[0m         Tensor\u001b[38;5;241m.\u001b[39mbackward,\n\u001b[1;32m    485\u001b[0m         (\u001b[38;5;28mself\u001b[39m,),\n\u001b[0;32m   (...)\u001b[0m\n\u001b[1;32m    490\u001b[0m         inputs\u001b[38;5;241m=\u001b[39minputs,\n\u001b[1;32m    491\u001b[0m     )\n\u001b[0;32m--> 492\u001b[0m \u001b[43mtorch\u001b[49m\u001b[38;5;241;43m.\u001b[39;49m\u001b[43mautograd\u001b[49m\u001b[38;5;241;43m.\u001b[39;49m\u001b[43mbackward\u001b[49m\u001b[43m(\u001b[49m\n\u001b[1;32m    493\u001b[0m \u001b[43m    \u001b[49m\u001b[38;5;28;43mself\u001b[39;49m\u001b[43m,\u001b[49m\u001b[43m \u001b[49m\u001b[43mgradient\u001b[49m\u001b[43m,\u001b[49m\u001b[43m \u001b[49m\u001b[43mretain_graph\u001b[49m\u001b[43m,\u001b[49m\u001b[43m \u001b[49m\u001b[43mcreate_graph\u001b[49m\u001b[43m,\u001b[49m\u001b[43m \u001b[49m\u001b[43minputs\u001b[49m\u001b[38;5;241;43m=\u001b[39;49m\u001b[43minputs\u001b[49m\n\u001b[1;32m    494\u001b[0m \u001b[43m\u001b[49m\u001b[43m)\u001b[49m\n",
      "File \u001b[0;32m~/.virtualenvs/torch/lib/python3.10/site-packages/torch/autograd/__init__.py:251\u001b[0m, in \u001b[0;36mbackward\u001b[0;34m(tensors, grad_tensors, retain_graph, create_graph, grad_variables, inputs)\u001b[0m\n\u001b[1;32m    246\u001b[0m     retain_graph \u001b[38;5;241m=\u001b[39m create_graph\n\u001b[1;32m    248\u001b[0m \u001b[38;5;66;03m# The reason we repeat the same comment below is that\u001b[39;00m\n\u001b[1;32m    249\u001b[0m \u001b[38;5;66;03m# some Python versions print out the first line of a multi-line function\u001b[39;00m\n\u001b[1;32m    250\u001b[0m \u001b[38;5;66;03m# calls in the traceback and some print out the last line\u001b[39;00m\n\u001b[0;32m--> 251\u001b[0m \u001b[43mVariable\u001b[49m\u001b[38;5;241;43m.\u001b[39;49m\u001b[43m_execution_engine\u001b[49m\u001b[38;5;241;43m.\u001b[39;49m\u001b[43mrun_backward\u001b[49m\u001b[43m(\u001b[49m\u001b[43m  \u001b[49m\u001b[38;5;66;43;03m# Calls into the C++ engine to run the backward pass\u001b[39;49;00m\n\u001b[1;32m    252\u001b[0m \u001b[43m    \u001b[49m\u001b[43mtensors\u001b[49m\u001b[43m,\u001b[49m\n\u001b[1;32m    253\u001b[0m \u001b[43m    \u001b[49m\u001b[43mgrad_tensors_\u001b[49m\u001b[43m,\u001b[49m\n\u001b[1;32m    254\u001b[0m \u001b[43m    \u001b[49m\u001b[43mretain_graph\u001b[49m\u001b[43m,\u001b[49m\n\u001b[1;32m    255\u001b[0m \u001b[43m    \u001b[49m\u001b[43mcreate_graph\u001b[49m\u001b[43m,\u001b[49m\n\u001b[1;32m    256\u001b[0m \u001b[43m    \u001b[49m\u001b[43minputs\u001b[49m\u001b[43m,\u001b[49m\n\u001b[1;32m    257\u001b[0m \u001b[43m    \u001b[49m\u001b[43mallow_unreachable\u001b[49m\u001b[38;5;241;43m=\u001b[39;49m\u001b[38;5;28;43;01mTrue\u001b[39;49;00m\u001b[43m,\u001b[49m\n\u001b[1;32m    258\u001b[0m \u001b[43m    \u001b[49m\u001b[43maccumulate_grad\u001b[49m\u001b[38;5;241;43m=\u001b[39;49m\u001b[38;5;28;43;01mTrue\u001b[39;49;00m\u001b[43m,\u001b[49m\n\u001b[1;32m    259\u001b[0m \u001b[43m\u001b[49m\u001b[43m)\u001b[49m\n",
      "\u001b[0;31mKeyboardInterrupt\u001b[0m: "
     ]
    }
   ],
   "source": [
    "err = False\n",
    "filename = \"models/CIFAR100/H_oca\"\n",
    "\n",
    "try:\n",
    "    cnn.train_track(filename)\n",
    "    cnn.save_model(filename)\n",
    "    msg = cnn.test(mode = \"write\", filename = filename)\n",
    "    cnn.write_configuration(filename, additional_info = \"l1: 1e-4\")\n",
    "    \n",
    "except Exception as errore:\n",
    "    err = errore\n",
    "\n",
    "if err is False:\n",
    "    bot.sendMessage(\"Programma terminato correttamente\\n\\n\\nPerformance:\\n\\n\"+msg)\n",
    "else:\n",
    "    bot.sendMessage(\"Programma NON terminato correttamente\\nTipo di errore: \"+err.__class__.__name__+\"\\nMessaggio: \"+str(err))\n",
    "    raise err"
   ]
  },
  {
   "cell_type": "code",
   "execution_count": null,
   "id": "2a2b471b-9d4d-42e2-9871-2de7874cdd38",
   "metadata": {},
   "outputs": [],
   "source": []
  }
 ],
 "metadata": {
  "kernelspec": {
   "display_name": "Python (torch)",
   "language": "python",
   "name": "torch"
  },
  "language_info": {
   "codemirror_mode": {
    "name": "ipython",
    "version": 3
   },
   "file_extension": ".py",
   "mimetype": "text/x-python",
   "name": "python",
   "nbconvert_exporter": "python",
   "pygments_lexer": "ipython3",
   "version": "3.10.12"
  }
 },
 "nbformat": 4,
 "nbformat_minor": 5
}
