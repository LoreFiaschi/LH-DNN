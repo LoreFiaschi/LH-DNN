{
 "cells": [
  {
   "cell_type": "code",
   "execution_count": 2,
   "id": "bb29cf94-a6b3-4ef7-a8be-cec4752524d8",
   "metadata": {},
   "outputs": [],
   "source": [
    "import torch\n",
    "import torch.optim as optim\n",
    "import torch.nn as nn\n",
    "import torch.nn.functional as F\n",
    "from torchviz import make_dot\n",
    "from torch.linalg import vector_norm as vnorm\n",
    "from torch.linalg import solve as solve_matrix_system\n",
    "\n",
    "import torchvision\n",
    "import torchvision.transforms as transforms\n",
    "from torchvision.transforms import ToTensor, Lambda\n",
    "\n",
    "import os\n",
    "import numpy as np\n",
    "import matplotlib.pyplot as plt\n",
    "from tqdm import tqdm \n",
    "\n",
    "from telegramBot import Terminator\n",
    "\n",
    "num_cores = 8\n",
    "torch.set_num_interop_threads(num_cores) # Inter-op parallelism\n",
    "torch.set_num_threads(num_cores) # Intra-op parallelism"
   ]
  },
  {
   "cell_type": "code",
   "execution_count": null,
   "id": "edf44cb0-e765-46f0-badd-397e8a2aaf90",
   "metadata": {},
   "outputs": [],
   "source": [
    "def c3_to_c1(y):\n",
    "    if y < 2 or y > 7:\n",
    "        return 0\n",
    "    return 1\n",
    "\n",
    "def c3_to_c2(y):\n",
    "    match y:\n",
    "        case 0:\n",
    "            return 0\n",
    "        case 1:\n",
    "            return 2\n",
    "        case 2:\n",
    "            return 3\n",
    "        case 3:\n",
    "            return 5\n",
    "        case 4:\n",
    "            return 6\n",
    "        case 5:\n",
    "            return 5\n",
    "        case 6:\n",
    "            return 4\n",
    "        case 7:\n",
    "            return 6\n",
    "        case 8:\n",
    "            return 1\n",
    "        case _:\n",
    "            return 2\n",
    "\n",
    "def c2_to_c1(y):\n",
    "    if y < 3:\n",
    "        return 0\n",
    "    return 1"
   ]
  },
  {
   "cell_type": "code",
   "execution_count": null,
   "id": "378fc441-1f9c-4486-9414-9a770c81bacd",
   "metadata": {},
   "outputs": [],
   "source": [
    "transform = transforms.Compose(\n",
    "    [transforms.ToTensor(),\n",
    "     transforms.Normalize((0.5, 0.5, 0.5), (0.5, 0.5, 0.5))])\n",
    "\n",
    "coarser = Lambda(lambda y: torch.tensor([c3_to_c1(y), c3_to_c2(y), int(y)]))\n",
    "\n",
    "batch_size = 128\n",
    "\n",
    "trainset = torchvision.datasets.CIFAR10(root='./data', train=True, download=False, transform=transform, target_transform = coarser)\n",
    "\n",
    "trainloader = torch.utils.data.DataLoader(trainset, batch_size=batch_size, shuffle=True, num_workers=num_cores)\n",
    "\n",
    "testset = torchvision.datasets.CIFAR10(root='./data', train=False, download=False, transform=transform, target_transform = coarser)\n",
    "\n",
    "testloader = torch.utils.data.DataLoader(testset, batch_size=batch_size, shuffle=False, num_workers=num_cores)"
   ]
  },
  {
   "cell_type": "code",
   "execution_count": null,
   "id": "7ca54ed2-9829-46d4-aebd-c08860c9203f",
   "metadata": {},
   "outputs": [],
   "source": [
    "class BCNN3(nn.Module):\n",
    "    def __init__(self, alpha, beta, gamma, learning_rate, momentum, nesterov, trainloader, testloader, \n",
    "                 epochs, num_class_c1, num_class_c2, num_class_c3, labels_c_1, labels_c_2, labels_c_3, \n",
    "                 every_print = 512, training_size = 50000):\n",
    "        \n",
    "        super().__init__()\n",
    "        self.trainloader = trainloader\n",
    "        self.testloader = testloader\n",
    "        self.learning_rate = learning_rate\n",
    "        self.momentum = momentum\n",
    "        self.nesterov = nesterov\n",
    "        self.alphas = alpha\n",
    "        self.betas = beta\n",
    "        self.gammas = gamma\n",
    "        self.alpha = self.alphas[0]\n",
    "        self.beta = self.betas[0]\n",
    "        self.gamma = self.gammas[0]\n",
    "        self.activation = F.relu\n",
    "        self.class_levels = 3\n",
    "        self.num_c_1 = num_class_c1\n",
    "        self.num_c_2 = num_class_c2\n",
    "        self.num_c_3 = num_class_c3\n",
    "        self.epochs = epochs\n",
    "        self.labels_c_1 = labels_c_1\n",
    "        self.labels_c_2 = labels_c_2\n",
    "        self.labels_c_3 = labels_c_3\n",
    "        self.every_print = every_print - 1 # assumed power of 2, -1 to make the mask\n",
    "        self.track_size = int( training_size / batch_size / every_print ) \n",
    "\n",
    "        self.layer1  = nn.Conv2d(3, 64, (3,3), padding = 'same')\n",
    "        self.layer2  = nn.BatchNorm2d(64)\n",
    "        self.layer3  = nn.Conv2d(64, 64, (3,3), padding = 'same')\n",
    "        self.layer4  = nn.BatchNorm2d(64)\n",
    "        self.layer5  = nn.MaxPool2d((2,2), stride = (2,2))\n",
    "\n",
    "        self.layer6  = nn.Conv2d(64, 128, (3,3), padding = 'same')\n",
    "        self.layer7  = nn.BatchNorm2d(128)\n",
    "        self.layer8  = nn.Conv2d(128, 128, (3,3), padding = 'same')\n",
    "        self.layer9  = nn.BatchNorm2d(128)\n",
    "        self.layer10 = nn.MaxPool2d((2,2), stride = (2,2))\n",
    "\n",
    "        self.layerb11 = nn.Linear(8*8*128, 256)\n",
    "        self.layerb12 = nn.BatchNorm1d(256)\n",
    "        self.layerb13 = nn.Dropout(0.5)\n",
    "        self.layerb14 = nn.Linear(256, 256)\n",
    "        self.layerb15 = nn.BatchNorm1d(256)\n",
    "        self.layerb16 = nn.Dropout(0.5)\n",
    "        self.layerb17 = nn.Linear(256, self.num_c_1)\n",
    "        self.layerb27 = nn.Linear(2*256, self.num_c_2)\n",
    "        self.layerb37 = nn.Linear(2*256, self.num_c_3)\n",
    "\n",
    "\n",
    "        self.optimizer = optim.SGD(self.parameters(), lr = self.learning_rate[0], \n",
    "                                   momentum = self.momentum, nesterov = self.nesterov)\n",
    "        self.criterion = nn.CrossEntropyLoss()\n",
    "\n",
    "    \n",
    "    def forward(self, x):\n",
    "\n",
    "        # block 1\n",
    "        z = self.layer1(x)\n",
    "        z = self.activation(z)\n",
    "        z = self.layer2(z)\n",
    "        z = self.layer3(z)\n",
    "        z = self.activation(z)\n",
    "        z = self.layer4(z)\n",
    "        z = self.layer5(z)\n",
    "\n",
    "        # block 2\n",
    "        z = self.layer6(z)\n",
    "        z = self.activation(z)\n",
    "        z = self.layer7(z)\n",
    "        z = self.layer8(z)\n",
    "        z = self.activation(z)\n",
    "        z = self.layer9(z)\n",
    "        z = self.layer10(z)\n",
    "        z = torch.flatten(z, start_dim = 1)\n",
    "\n",
    "        # branch 1\n",
    "        z = self.layerb11(z)\n",
    "        z = self.activation(z)\n",
    "        z = self.layerb12(z)\n",
    "        z = self.layerb13(z)\n",
    "        z = self.layerb14(z)\n",
    "        z = self.activation(z)\n",
    "        z = self.layerb15(z)\n",
    "        z = self.layerb16(z)\n",
    "        b1 = self.layerb17(z)\n",
    "\n",
    "        # branch 2\n",
    "        b2 = self.project(z, self.layerb11)\n",
    "        b2 = self.layerb27(b2)\n",
    "\n",
    "        # branch 3\n",
    "        b3 = self.project(z, torch.hstack((self.layerb17, self.layerb27)))\n",
    "        b3 = self.layerb37(b3)\n",
    "\n",
    "        return b1, b2, b3\n",
    "\n",
    "\n",
    "    # Assumption: W is column full rank. \n",
    "    def project(self, z, W): #https://math.stackexchange.com/questions/4021915/projection-orthogonal-to-two-vectors\n",
    "        \n",
    "        P = solve_matrix_system(torch.matmul(torch.transpose(W), W))\n",
    "        P = torch.matmul(P, torch.transpose(W))\n",
    "        P = torch.matmul(W, P)\n",
    "\n",
    "        prj = torch.matmul(z.clone().deatch(), P)\n",
    "        ort = z - prj\n",
    "        return torch.hstack((prj, ort))\n",
    "\n",
    "    \n",
    "    def update_training_params(self, epoch):\n",
    "        if epoch == 41:\n",
    "            self.optimizer = optim.SGD(self.parameters(), lr = self.learning_rate[1], \n",
    "                               momentum = self.momentum, nesterov = self.nesterov)\n",
    "        elif epoch == 51:\n",
    "            self.optimizer = optim.SGD(self.parameters(), lr = self.learning_rate[2], \n",
    "                               momentum = self.momentum, nesterov = self.nesterov)\n",
    "\n",
    "\n",
    "    def predict_and_learn(self, batch, labels):\n",
    "        self.optimizer.zero_grad()\n",
    "        predict = self(batch)\n",
    "        loss =  self.alpha * self.criterion(predict[0], labels[:,0]) + \\\n",
    "                self.beta * self.criterion(predict[1], labels[:,1]) + \\\n",
    "                self.gamma * self.criterion(predict[2], labels[:,2])\n",
    "\n",
    "        loss.backward()\n",
    "        self.optimizer.step()\n",
    "\n",
    "        return loss\n",
    "\n",
    "    \n",
    "    def train_model(self, verbose = False):\n",
    "        self.train()\n",
    "        \n",
    "        for epoch in np.arange(self.epochs):\n",
    "            self.update_training_params(epoch)\n",
    "\n",
    "            if verbose:\n",
    "                running_loss = 0.\n",
    "            \n",
    "            for iter, (batch, labels) in enumerate(self.trainloader):\n",
    "                loss = self.predict_and_learn(batch, labels)\n",
    "\n",
    "                if verbose:\n",
    "                    running_loss += (loss.item() - running_loss) / (iter+1)\n",
    "                    if (iter + 1) & self.every_print == 0:\n",
    "                        print(f'[{epoch + 1}] loss: {running_loss :.3f}')\n",
    "                        running_loss = 0.0\n",
    "\n",
    "    \n",
    "    def train_track(self, filename = None):\n",
    "        self.train()\n",
    "        \n",
    "        self.loss_track = torch.zeros(self.epochs * self.track_size)\n",
    "        self.accuracy_track = torch.zeros(self.epochs * self.track_size, self.class_levels)\n",
    "        num_push = 0\n",
    "        \n",
    "        for epoch in np.arange(self.epochs):\n",
    "\n",
    "            self.update_training_params(epoch)\n",
    "\n",
    "            running_loss = 0.\n",
    "            \n",
    "            for iter, (batch, labels) in enumerate(self.trainloader):\n",
    "                loss = self.predict_and_learn(batch, labels)\n",
    "\n",
    "                running_loss += (loss.item() - running_loss) / (iter+1)\n",
    "                if (iter + 1) & self.every_print == 0:\n",
    "                    self.loss_track[num_push] = running_loss\n",
    "                    self.accuracy_track[num_push, :] = self.test(mode = \"train\")\n",
    "                    num_push += 1\n",
    "                    running_loss = 0.0\n",
    "\n",
    "        self.plot_training_loss(filename+\"_train_loss.pdf\")\n",
    "        self.plot_test_accuracy(filename+\"_test_accuracy_.pdf\")\n",
    "\n",
    "    \n",
    "    def initialize_memory(self):\n",
    "        self.correct_c1_pred = torch.zeros(self.num_c_1)\n",
    "        self.total_c1_pred = torch.zeros_like(self.correct_c1_pred)\n",
    "        \n",
    "        self.correct_c2_pred = torch.zeros(self.num_c_2)\n",
    "        self.total_c2_pred = torch.zeros_like(self.correct_c2_pred)\n",
    "        \n",
    "        self.correct_c3_pred = torch.zeros(self.num_c_3)\n",
    "        self.total_c3_pred = torch.zeros_like(self.correct_c3_pred)\n",
    "\n",
    "        self.correct_c1_vs_c2_pred = torch.zeros(self.num_c_1)\n",
    "        self.total_c1_vs_c2_pred = torch.zeros_like(self.correct_c1_vs_c2_pred)\n",
    "\n",
    "        self.correct_c2_vs_c3_pred = torch.zeros(self.num_c_2)\n",
    "        self.total_c2_vs_c3_pred = torch.zeros_like(self.correct_c2_vs_c3_pred)\n",
    "\n",
    "        self.correct_c1_vs_c3_pred = torch.zeros(self.num_c_1)\n",
    "        self.total_c1_vs_c3_pred = torch.zeros_like(self.correct_c1_vs_c3_pred)\n",
    "\n",
    "    \n",
    "    def collect_test_performance(self):\n",
    "        with torch.no_grad():\n",
    "            for images, labels in self.testloader:\n",
    "                predictions = self(images)\n",
    "                predicted = torch.zeros(predictions[0].size(0), self.class_levels, dtype=torch.long)\n",
    "                _, predicted[:,0] = torch.max(predictions[0], 1)\n",
    "                _, predicted[:,1] = torch.max(predictions[1], 1)\n",
    "                _, predicted[:,2] = torch.max(predictions[2], 1)\n",
    "\n",
    "                for i in np.arange(predictions[0].size(0)):\n",
    "                    if labels[i,0] == predicted[i,0]:\n",
    "                        self.correct_c1_pred[labels[i,0]] += 1\n",
    "                        \n",
    "                    if labels[i,1] == predicted[i,1]:\n",
    "                        self.correct_c2_pred[labels[i,1]] += 1\n",
    "\n",
    "                    if labels[i,2] == predicted[i,2]:\n",
    "                        self.correct_c3_pred[labels[i,2]] += 1\n",
    "\n",
    "                    if predicted[i,1] == c3_to_c2(predicted[i,2]):\n",
    "                        self.correct_c2_vs_c3_pred[predicted[i,1]] += 1\n",
    "\n",
    "                    if predicted[i,0] == c3_to_c1(predicted[i,2]):\n",
    "                        self.correct_c1_vs_c3_pred[predicted[i,0]] += 1\n",
    "\n",
    "                    if predicted[i,0] == c2_to_c1(predicted[i,1]):\n",
    "                        self.correct_c1_vs_c2_pred[predicted[i,0]] += 1\n",
    "                        \n",
    "                    self.total_c1_pred[labels[i,0]] += 1\n",
    "                    self.total_c2_pred[labels[i,1]] += 1\n",
    "                    self.total_c3_pred[labels[i,2]] += 1\n",
    "                    self.total_c1_vs_c3_pred[predicted[i,0]] += 1\n",
    "                    self.total_c1_vs_c2_pred[predicted[i,0]] += 1\n",
    "                    self.total_c2_vs_c3_pred[predicted[i,1]] += 1\n",
    "                    \n",
    "\n",
    "    def print_test_results(self):\n",
    "        # print accuracy for each class\n",
    "        for i in np.arange(self.num_c_1):\n",
    "            accuracy_c1 = 100 * float(self.correct_c1_pred[i]) / self.total_c1_pred[i]\n",
    "            print(f'Accuracy for class {self.labels_c_1[i]:5s}: {accuracy_c1:.2f} %')\n",
    "\n",
    "        print(\"\")\n",
    "        for i in np.arange(self.num_c_2):\n",
    "            accuracy_c2 = 100 * float(self.correct_c2_pred[i]) / self.total_c2_pred[i]\n",
    "            print(f'Accuracy for class {self.labels_c_2[i]:5s}: {accuracy_c2:.2f} %')\n",
    "\n",
    "        print(\"\")\n",
    "        for i in np.arange(self.num_c_3):\n",
    "            accuracy_c3 = 100 * float(self.correct_c3_pred[i]) / self.total_c3_pred[i]\n",
    "            print(f'Accuracy for class {self.labels_c_3[i]:5s}: {accuracy_c3:.2f} %')\n",
    "            \n",
    "        # print accuracy for the whole dataset\n",
    "        print(\"\")\n",
    "        print(f'Accuracy on c1: {100 * self.correct_c1_pred.sum() // self.total_c1_pred.sum()} %')\n",
    "        print(f'Accuracy on c2: {100 * self.correct_c2_pred.sum() // self.total_c2_pred.sum()} %')\n",
    "        print(f'Accuracy on c3: {100 * self.correct_c3_pred.sum() // self.total_c3_pred.sum()} %')\n",
    "\n",
    "        # print cross classes accuracy (tree)\n",
    "        print(\"\")\n",
    "        for i in np.arange(self.num_c_1):\n",
    "            accuracy_c1_c2 = 100 * float(self.correct_c1_vs_c2_pred[i]) / self.total_c1_vs_c2_pred[i]\n",
    "            print(f'Cross-accuracy {self.labels_c_1[i]:5s} vs c2: {accuracy_c1_c2:.2f} %')\n",
    "        \n",
    "        print(\"\")\n",
    "        for i in np.arange(self.num_c_2):\n",
    "            accuracy_c2_c3 = 100 * float(self.correct_c2_vs_c3_pred[i]) / self.total_c2_vs_c3_pred[i]\n",
    "            print(f'Cross-accuracy {self.labels_c_2[i]:5s} vs c3: {accuracy_c2_c3:.2f} %')\n",
    "\n",
    "        print(\"\")\n",
    "        for i in np.arange(self.num_c_1):\n",
    "            accuracy_c1_c3 = 100 * float(self.correct_c1_vs_c3_pred[i]) / self.total_c1_vs_c3_pred[i]\n",
    "            print(f'Cross-accuracy {self.labels_c_1[i]:5s} vs c3: {accuracy_c1_c3:.2f} %')\n",
    "\n",
    "\n",
    "    def barplot(self, x, accuracy, labels, title):\n",
    "        plt.bar(x, accuracy, tick_label = labels)\n",
    "        plt.xlabel(\"Classes\")\n",
    "        plt.ylabel(\"Accuracy\")\n",
    "        plt.title(title)\n",
    "        plt.show();\n",
    "\n",
    "    \n",
    "    def plot_test_results(self):\n",
    "        # accuracy for each class\n",
    "        accuracy_c1 = torch.empty(self.num_c_1)\n",
    "        for i in np.arange(self.num_c_1):\n",
    "            accuracy_c1[i] = float(self.correct_c1_pred[i]) / self.total_c1_pred[i]\n",
    "        self.barplot(np.arange(self.num_c_1), accuracy_c1, self.labels_c_1, \"Accuracy on the first level\")\n",
    "\n",
    "        accuracy_c2 = torch.empty(self.num_c_2 + 1)\n",
    "        for i in np.arange(self.num_c_2):\n",
    "            accuracy_c2[i] = float(self.correct_c2_pred[i]) / self.total_c2_pred[i]\n",
    "        accuracy_c2[self.num_c_2] = self.correct_c2_pred.sum() / self.total_c2_pred.sum()\n",
    "        self.barplot(np.arange(self.num_c_2 + 1), accuracy_c2, (*self.labels_c_2, 'overall'), \"Accuracy on the second level\")\n",
    "\n",
    "        accuracy_c3 = torch.empty(self.num_c_3 + 1)\n",
    "        for i in np.arange(self.num_c_3):\n",
    "            accuracy_c3[i] = float(self.correct_c3_pred[i]) / self.total_c3_pred[i]\n",
    "        accuracy_c3[self.num_c_3] = self.correct_c3_pred.sum() / self.total_c3_pred.sum()\n",
    "        self.barplot(np.arange(self.num_c_3 + 1), accuracy_c3, (*self.labels_c_3, 'overall'), \"Accuracy on the third level\")\n",
    "\n",
    "    \n",
    "    def test(self, mode = \"print\"):\n",
    "        self.initialize_memory()\n",
    "        self.eval()\n",
    "\n",
    "        self.collect_test_performance()\n",
    "\n",
    "        match mode:\n",
    "            case \"plot\":\n",
    "                self.plot_test_results()\n",
    "            case \"print\":\n",
    "                self.print_test_results()\n",
    "            case \"train\":\n",
    "                accuracy_c1 = self.correct_c1_pred.sum() / self.total_c1_pred.sum()\n",
    "                accuracy_c2 = self.correct_c2_pred.sum() / self.total_c2_pred.sum()\n",
    "                accuracy_c3 = self.correct_c3_pred.sum() / self.total_c3_pred.sum()\n",
    "\n",
    "                self.train()\n",
    "\n",
    "                return torch.tensor([accuracy_c1, accuracy_c2, accuracy_c3])\n",
    "            case _:\n",
    "                raise AttributeError(\"Test mode not available\")\n",
    "        \n",
    "    \n",
    "    def plot_training_loss(self, filename = None):\n",
    "        plt.figure(figsize=(12, 6))\n",
    "        plt.plot(np.linspace(1, self.epochs, self.loss_track.size(0)), self.loss_track.numpy())\n",
    "        plt.title(\"Training loss\")\n",
    "        plt.xlabel(\"Epochs\")\n",
    "        plt.ylabel(\"Error\")\n",
    "        plt.xticks(np.linspace(1, self.epochs, self.epochs)[0::2])\n",
    "        if filename is not None:\n",
    "            plt.savefig(filename, bbox_inches='tight')\n",
    "        plt.show();\n",
    "\n",
    "    \n",
    "    def plot_test_accuracy(self, filename = None):\n",
    "        plt.figure(figsize=(12, 6))\n",
    "        plt.plot(np.linspace(1, self.epochs, self.accuracy_track.size(0)), self.accuracy_track[:, 0].numpy(), label = \"First level\")\n",
    "        plt.plot(np.linspace(1, self.epochs, self.accuracy_track.size(0)), self.accuracy_track[:, 1].numpy(), label = \"Second level\")\n",
    "        plt.plot(np.linspace(1, self.epochs, self.accuracy_track.size(0)), self.accuracy_track[:, 2].numpy(), label = \"Third level\")\n",
    "        plt.title(\"Test accuracy\")\n",
    "        plt.xlabel(\"Epochs\")\n",
    "        plt.ylabel(\"Accuracy\")\n",
    "        plt.xticks(np.linspace(1, self.epochs, self.epochs)[0::2])\n",
    "        plt.legend()\n",
    "        if filename is not None:\n",
    "            plt.savefig(filename, bbox_inches='tight')\n",
    "        plt.show();\n",
    "\n",
    "    \n",
    "    def save_model(self, path):\n",
    "        torch.save(self.state_dict(), path)\n",
    "\n",
    "    \n",
    "    def load_model(self, path):\n",
    "        self.load_state_dict(torch.load(path))\n",
    "        self.eval()"
   ]
  },
  {
   "cell_type": "code",
   "execution_count": 140,
   "id": "68a8894d-e86b-4e67-a5fb-28ded5a6e922",
   "metadata": {},
   "outputs": [],
   "source": [
    "class prova(nn.Module):\n",
    "\n",
    "    def __init__(self):\n",
    "        super().__init__()\n",
    "\n",
    "        self.layer0 = nn.Linear(4, 12)\n",
    "        self.layer1 = nn.Linear(12, 2)\n",
    "        self.layer2 = nn.Linear(12, 4)\n",
    "        self.layer2_1 = nn.Linear(12, 4)\n",
    "        self.layer3 = nn.Linear(12, 4)\n",
    "        self.layer3_1 = nn.Linear(12, 4)\n",
    "\n",
    "        self.criterion = nn.MSELoss()\n",
    "        self.optimizer = optim.SGD(self.parameters(), lr = 1e-3)\n",
    "\n",
    "    def forward(self, x):\n",
    "        z = self.layer0(x)\n",
    "        z = F.relu(z)\n",
    "        o1 = self.layer1(z)\n",
    "        prj2, ort2 = self.project(z, self.layer1.weight.clone().detach())\n",
    "        o2 = self.layer2(ort2) + self.layer2_1(prj2) \n",
    "        prj3, ort3 = self.project(z, torch.vstack((self.layer1.weight.clone().detach(), self.layer2.weight.clone().detach())))\n",
    "        o3 = self.layer3(ort3) + self.layer3_1(prj2)\n",
    "\n",
    "        return o1, o2, o3\n",
    "\n",
    "    \n",
    "    # Assumption: W is column full rank. \n",
    "    def project(self, z, W): #https://math.stackexchange.com/questions/4021915/projection-orthogonal-to-two-vectors\n",
    "        \n",
    "        P = solve_matrix_system(torch.matmul(W, W.T), torch.eye(W.size(0)))\n",
    "        P = torch.matmul(P, W)\n",
    "        P = torch.eye(W.size(1)) - torch.matmul(W.T, P)\n",
    "\n",
    "        ort = torch.matmul(z, P)\n",
    "        prj = z.clone().detach() - ort.clone().detach()\n",
    "        print(W.mm(ort.T))\n",
    "        return prj, ort\n",
    "\n",
    "\n",
    "    def print_forward(self, x):\n",
    "        o1, o2, o3 = self.forward(x)\n",
    "        print(o1, end = \"\\n\\n\")\n",
    "        print(o2, end = \"\\n\\n\")\n",
    "        print(o3, end = \"\\n\\n\")"
   ]
  },
  {
   "cell_type": "code",
   "execution_count": 141,
   "id": "27fb30c9-3271-49ec-9cb1-23d99bbc2984",
   "metadata": {},
   "outputs": [],
   "source": [
    "p = prova()"
   ]
  },
  {
   "cell_type": "code",
   "execution_count": 142,
   "id": "04d8a179-3516-48ce-9222-386fd178292c",
   "metadata": {},
   "outputs": [],
   "source": [
    "x = torch.rand(2, 4)"
   ]
  },
  {
   "cell_type": "code",
   "execution_count": 143,
   "id": "5bc35057-6324-4f31-9700-75ac7effcb8b",
   "metadata": {},
   "outputs": [
    {
     "data": {
      "text/plain": [
       "torch.Size([2, 12])"
      ]
     },
     "execution_count": 143,
     "metadata": {},
     "output_type": "execute_result"
    }
   ],
   "source": [
    "p.layer1.weight.shape"
   ]
  },
  {
   "cell_type": "code",
   "execution_count": 144,
   "id": "ecaa34a3-784b-4425-8d32-a417299827e9",
   "metadata": {},
   "outputs": [
    {
     "name": "stdout",
     "output_type": "stream",
     "text": [
      "tensor([[ 3.7253e-09, -3.7253e-09],\n",
      "        [-1.4901e-08, -2.2352e-08]], grad_fn=<MmBackward0>)\n",
      "tensor([[-1.8626e-08, -4.2841e-08],\n",
      "        [-1.8626e-09, -5.5879e-09],\n",
      "        [ 2.6077e-08,  4.4703e-08],\n",
      "        [ 4.4703e-08,  4.0978e-08],\n",
      "        [-2.3283e-08, -4.2375e-08],\n",
      "        [-5.5879e-09, -1.3039e-08]], grad_fn=<MmBackward0>)\n"
     ]
    },
    {
     "data": {
      "text/plain": [
       "(tensor([[-0.2395,  0.3159],\n",
       "         [-0.2360,  0.3514]], grad_fn=<AddmmBackward0>),\n",
       " tensor([[ 0.3891, -0.4173,  0.0448, -0.0094],\n",
       "         [ 0.5370, -0.2331, -0.0271,  0.0128]], grad_fn=<AddBackward0>),\n",
       " tensor([[-0.4176,  0.5648, -0.1441,  0.3095],\n",
       "         [-0.4094,  0.5595, -0.1750,  0.2645]], grad_fn=<AddBackward0>))"
      ]
     },
     "execution_count": 144,
     "metadata": {},
     "output_type": "execute_result"
    }
   ],
   "source": [
    "p(x)"
   ]
  },
  {
   "cell_type": "code",
   "execution_count": 91,
   "id": "86a39f7c-a842-491b-8348-9d809bc3b5a5",
   "metadata": {},
   "outputs": [
    {
     "data": {
      "text/plain": [
       "'rnn_torchviz.png'"
      ]
     },
     "execution_count": 91,
     "metadata": {},
     "output_type": "execute_result"
    }
   ],
   "source": [
    "make_dot(p(x), params=dict(list(p.named_parameters()))).render(\"rnn_torchviz\", format=\"png\")"
   ]
  },
  {
   "cell_type": "code",
   "execution_count": 92,
   "id": "5196b792-bfe3-4c6a-9126-55aac356b554",
   "metadata": {},
   "outputs": [],
   "source": [
    "u = p(x)"
   ]
  },
  {
   "cell_type": "code",
   "execution_count": 93,
   "id": "13dc40b2-1d63-44c7-b0ce-42d5d516a5db",
   "metadata": {},
   "outputs": [
    {
     "data": {
      "text/plain": [
       "(tensor([[-0.4516,  0.3955],\n",
       "         [-0.6314,  0.4501]], grad_fn=<AddmmBackward0>),\n",
       " tensor([[ 0.3884, -0.2266,  0.3830, -0.0802],\n",
       "         [ 0.3142, -0.3167,  0.4863, -0.1240]], grad_fn=<AddBackward0>),\n",
       " tensor([[-0.1178,  0.1066,  0.0310, -0.4078],\n",
       "         [-0.1460,  0.1493, -0.1682, -0.5276]], grad_fn=<AddBackward0>))"
      ]
     },
     "execution_count": 93,
     "metadata": {},
     "output_type": "execute_result"
    }
   ],
   "source": [
    "u"
   ]
  },
  {
   "cell_type": "code",
   "execution_count": 96,
   "id": "733cc1a9-3b67-44fd-9079-33f561d3cfa8",
   "metadata": {},
   "outputs": [],
   "source": [
    "y = torch.rand(2,4)"
   ]
  },
  {
   "cell_type": "code",
   "execution_count": 97,
   "id": "4ac46601-ed00-497a-917b-1dc3e1a8daa5",
   "metadata": {},
   "outputs": [],
   "source": [
    "loss2 = p.criterion(u[1], y)"
   ]
  },
  {
   "cell_type": "code",
   "execution_count": 98,
   "id": "777feeca-2c36-4018-a023-b27e2b8e57fa",
   "metadata": {},
   "outputs": [],
   "source": [
    "loss2.backward()"
   ]
  },
  {
   "cell_type": "code",
   "execution_count": 99,
   "id": "f21f867e-7596-4dd1-a070-9d04a0a78cc6",
   "metadata": {},
   "outputs": [],
   "source": [
    "p.optimizer.step()"
   ]
  },
  {
   "cell_type": "code",
   "execution_count": 100,
   "id": "4ef2dbd7-a8d1-48c2-9bf8-d9baa04a9ebe",
   "metadata": {},
   "outputs": [
    {
     "data": {
      "text/plain": [
       "(tensor([[-0.4516,  0.3955],\n",
       "         [-0.6314,  0.4501]], grad_fn=<AddmmBackward0>),\n",
       " tensor([[ 0.3887, -0.2255,  0.3833, -0.0791],\n",
       "         [ 0.3144, -0.3153,  0.4866, -0.1227]], grad_fn=<AddBackward0>),\n",
       " tensor([[-0.1177,  0.1064,  0.0310, -0.4079],\n",
       "         [-0.1460,  0.1490, -0.1681, -0.5277]], grad_fn=<AddBackward0>))"
      ]
     },
     "execution_count": 100,
     "metadata": {},
     "output_type": "execute_result"
    }
   ],
   "source": [
    "p(x)"
   ]
  },
  {
   "cell_type": "code",
   "execution_count": 102,
   "id": "eeeeb634-746c-4e57-ab22-472db9a7cbae",
   "metadata": {},
   "outputs": [
    {
     "data": {
      "text/plain": [
       "tensor([[ 3.6955e-06, -2.2650e-06],\n",
       "        [ 2.4498e-05, -7.1228e-06]], grad_fn=<SubBackward0>)"
      ]
     },
     "execution_count": 102,
     "metadata": {},
     "output_type": "execute_result"
    }
   ],
   "source": [
    "p(x)[0]-u[0]"
   ]
  },
  {
   "cell_type": "code",
   "execution_count": 110,
   "id": "492b332f-4b5f-4318-9260-174815a4b444",
   "metadata": {},
   "outputs": [],
   "source": [
    "uu = p(x)"
   ]
  },
  {
   "cell_type": "code",
   "execution_count": 111,
   "id": "eed40e48-8411-4db6-88d1-e7b5a80af6b1",
   "metadata": {},
   "outputs": [],
   "source": [
    "loss3 = p.criterion(uu[2], y)"
   ]
  },
  {
   "cell_type": "code",
   "execution_count": 112,
   "id": "bd42fa39-1845-4237-8851-2e8ffe56981f",
   "metadata": {},
   "outputs": [],
   "source": [
    "loss3.backward()"
   ]
  },
  {
   "cell_type": "code",
   "execution_count": 113,
   "id": "4d4bc0a3-4411-43fc-a5ee-3fb3077d22bb",
   "metadata": {},
   "outputs": [],
   "source": [
    "p.optimizer.step()"
   ]
  },
  {
   "cell_type": "code",
   "execution_count": 114,
   "id": "14d1ea8b-7b33-442d-8557-97386005e523",
   "metadata": {},
   "outputs": [
    {
     "name": "stdout",
     "output_type": "stream",
     "text": [
      "tensor([[3.6061e-05, 1.7196e-05],\n",
      "        [2.0903e-04, 9.3848e-05]], grad_fn=<SubBackward0>)\n",
      "tensor([[1.1700e-04, 1.2027e-03, 1.8212e-04, 1.1274e-03],\n",
      "        [9.7781e-05, 1.4476e-03, 9.4593e-05, 1.2653e-03]],\n",
      "       grad_fn=<SubBackward0>)\n"
     ]
    }
   ],
   "source": [
    "print(p(x)[0]-uu[0])\n",
    "print(p(x)[1]-uu[1])"
   ]
  },
  {
   "cell_type": "code",
   "execution_count": 115,
   "id": "39cc64bb-6c07-4c1d-954c-ce0bf7d474be",
   "metadata": {},
   "outputs": [
    {
     "data": {
      "text/plain": [
       "(tensor([[-0.4516,  0.3955],\n",
       "         [-0.6312,  0.4501]], grad_fn=<AddmmBackward0>),\n",
       " tensor([[ 0.3888, -0.2243,  0.3835, -0.0780],\n",
       "         [ 0.3146, -0.3139,  0.4868, -0.1214]], grad_fn=<AddBackward0>),\n",
       " tensor([[-0.1156,  0.1071,  0.0330, -0.4047],\n",
       "         [-0.1437,  0.1498, -0.1657, -0.5239]], grad_fn=<AddBackward0>))"
      ]
     },
     "execution_count": 115,
     "metadata": {},
     "output_type": "execute_result"
    }
   ],
   "source": [
    "uu"
   ]
  },
  {
   "cell_type": "code",
   "execution_count": 116,
   "id": "5dd633a6-f594-4072-badc-c286a2b2a6a1",
   "metadata": {},
   "outputs": [
    {
     "data": {
      "text/plain": [
       "(tensor([[-0.4516,  0.3955],\n",
       "         [-0.6310,  0.4502]], grad_fn=<AddmmBackward0>),\n",
       " tensor([[ 0.3889, -0.2231,  0.3837, -0.0768],\n",
       "         [ 0.3147, -0.3125,  0.4869, -0.1202]], grad_fn=<AddBackward0>),\n",
       " tensor([[-0.1125,  0.1083,  0.0360, -0.3998],\n",
       "         [-0.1403,  0.1511, -0.1621, -0.5182]], grad_fn=<AddBackward0>))"
      ]
     },
     "execution_count": 116,
     "metadata": {},
     "output_type": "execute_result"
    }
   ],
   "source": [
    "p(x)"
   ]
  },
  {
   "cell_type": "code",
   "execution_count": 117,
   "id": "7425911f-a87e-44f6-8241-7974a06181a7",
   "metadata": {},
   "outputs": [
    {
     "name": "stdout",
     "output_type": "stream",
     "text": [
      "tensor([[0.0031, 0.0012, 0.0030, 0.0049],\n",
      "        [0.0034, 0.0013, 0.0036, 0.0057]], grad_fn=<SubBackward0>)\n"
     ]
    }
   ],
   "source": [
    "print(p(x)[2]-uu[2])"
   ]
  },
  {
   "cell_type": "code",
   "execution_count": null,
   "id": "8d5ccc65-24fb-4b4e-b28d-411baf9095e8",
   "metadata": {},
   "outputs": [],
   "source": []
  }
 ],
 "metadata": {
  "kernelspec": {
   "display_name": "Python (torch)",
   "language": "python",
   "name": "torch"
  },
  "language_info": {
   "codemirror_mode": {
    "name": "ipython",
    "version": 3
   },
   "file_extension": ".py",
   "mimetype": "text/x-python",
   "name": "python",
   "nbconvert_exporter": "python",
   "pygments_lexer": "ipython3",
   "version": "3.10.12"
  }
 },
 "nbformat": 4,
 "nbformat_minor": 5
}
