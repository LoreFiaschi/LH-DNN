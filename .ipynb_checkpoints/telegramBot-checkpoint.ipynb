{
 "cells": [
  {
   "cell_type": "code",
   "execution_count": 1,
   "id": "9b3abfe1-e9f6-43ee-b913-c6ddf43d65a6",
   "metadata": {},
   "outputs": [],
   "source": [
    "import requests\n",
    "from abc import ABC"
   ]
  },
  {
   "cell_type": "code",
   "execution_count": 25,
   "id": "6e9418a9-7f5d-4f51-b2d0-ee426ca00860",
   "metadata": {},
   "outputs": [],
   "source": [
    "class TelegramBot(ABC):\n",
    "\n",
    "    def __init__(self, token):\n",
    "\n",
    "        self.me = \"https://api.telegram.org/bot{token}/sendMessage\".format(token=token)\n",
    "        self.payload = {'chat_id': \"\", 'text': \"\", 'parse_mode': 'markdown'}\n",
    "\n",
    "    def sendMessage(self, message, chat):\n",
    "        self.payload['chat_id'] = chat\n",
    "        self.payload['text'] = message\n",
    "        requests.post(self.me, data=self.payload)"
   ]
  },
  {
   "cell_type": "code",
   "execution_count": 26,
   "id": "31f51562-bc81-41a8-872b-d06d7a842b6a",
   "metadata": {},
   "outputs": [],
   "source": [
    "class Terminator(TelegramBot):\n",
    "\n",
    "    def __init__(self, token = \"6642271737:AAE9DDJjRMbLD-l8FwrEs4H4EnclOMvM00c\"):\n",
    "\n",
    "        super().__init__(token)\n",
    "\n",
    "    \n",
    "    def sendMessage(self, message, chat = '109373025'):\n",
    "        super().sendMessage(message, chat) "
   ]
  }
 ],
 "metadata": {
  "kernelspec": {
   "display_name": "Python (torch)",
   "language": "python",
   "name": "torch"
  },
  "language_info": {
   "codemirror_mode": {
    "name": "ipython",
    "version": 3
   },
   "file_extension": ".py",
   "mimetype": "text/x-python",
   "name": "python",
   "nbconvert_exporter": "python",
   "pygments_lexer": "ipython3",
   "version": "3.10.12"
  }
 },
 "nbformat": 4,
 "nbformat_minor": 5
}
